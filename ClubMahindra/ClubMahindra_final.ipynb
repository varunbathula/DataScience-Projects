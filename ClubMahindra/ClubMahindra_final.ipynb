{
 "cells": [
  {
   "cell_type": "code",
   "execution_count": null,
   "metadata": {},
   "outputs": [],
   "source": [
    "import numpy as np\n",
    "import pandas as pd\n",
    "import matplotlib.pyplot as plt\n",
    "import seaborn as sns\n",
    "from sklearn import linear_model\n",
    "from sklearn.linear_model import LinearRegression\n",
    "from sklearn.linear_model import Ridge\n",
    "from sklearn.linear_model import Lasso\n",
    "from sklearn.model_selection import GridSearchCV\n",
    "\n",
    "import warnings\n",
    "warnings.filterwarnings('ignore')"
   ]
  },
  {
   "cell_type": "code",
   "execution_count": null,
   "metadata": {},
   "outputs": [],
   "source": [
    "club = pd.read_csv(\"train.csv\")\n",
    "club_test = pd.read_csv(\"test.csv\")"
   ]
  },
  {
   "cell_type": "markdown",
   "metadata": {},
   "source": [
    "# Step 1 : Data checkin and null value analysis:"
   ]
  },
  {
   "cell_type": "code",
   "execution_count": null,
   "metadata": {},
   "outputs": [],
   "source": [
    "club.head(5)"
   ]
  },
  {
   "cell_type": "code",
   "execution_count": null,
   "metadata": {},
   "outputs": [],
   "source": [
    "club.shape"
   ]
  },
  {
   "cell_type": "code",
   "execution_count": null,
   "metadata": {
    "scrolled": true
   },
   "outputs": [],
   "source": [
    "club.info()"
   ]
  },
  {
   "cell_type": "markdown",
   "metadata": {},
   "source": [
    "# checking the distribution of numerical data for outliers:"
   ]
  },
  {
   "cell_type": "code",
   "execution_count": null,
   "metadata": {},
   "outputs": [],
   "source": [
    "club.describe()"
   ]
  },
  {
   "cell_type": "code",
   "execution_count": null,
   "metadata": {
    "scrolled": true
   },
   "outputs": [],
   "source": [
    "club.columns"
   ]
  },
  {
   "cell_type": "code",
   "execution_count": null,
   "metadata": {
    "scrolled": true
   },
   "outputs": [],
   "source": [
    "club.dtypes"
   ]
  },
  {
   "cell_type": "code",
   "execution_count": null,
   "metadata": {},
   "outputs": [],
   "source": [
    "club_test.head(5)"
   ]
  },
  {
   "cell_type": "code",
   "execution_count": null,
   "metadata": {},
   "outputs": [],
   "source": [
    "club_test.shape"
   ]
  },
  {
   "cell_type": "markdown",
   "metadata": {},
   "source": [
    "# there is some categorical data so we would need to do some dummy variable creation"
   ]
  },
  {
   "cell_type": "markdown",
   "metadata": {},
   "source": [
    "# Step 2 : New features creation for analysis:"
   ]
  },
  {
   "cell_type": "code",
   "execution_count": null,
   "metadata": {},
   "outputs": [],
   "source": [
    "club['booking_date']= pd.to_datetime(club['booking_date'], dayfirst=True)\n",
    "club['booking_date'] =club['booking_date'].apply(lambda x: '20'+str(x.year) if len(str(x.year))!=4 else x)"
   ]
  },
  {
   "cell_type": "code",
   "execution_count": null,
   "metadata": {},
   "outputs": [],
   "source": [
    "club['checkin_date']= pd.to_datetime(club['checkin_date'], dayfirst=True)\n",
    "club['checkin_date'] =club['checkin_date'].apply(lambda x: '20'+str(x.year) if len(str(x.year))!=4 else x)"
   ]
  },
  {
   "cell_type": "code",
   "execution_count": null,
   "metadata": {},
   "outputs": [],
   "source": [
    "club['checkout_date']= pd.to_datetime(club['checkout_date'], dayfirst=True)\n",
    "club['checkout_date'] =club['checkout_date'].apply(lambda x: '20'+str(x.year) if len(str(x.year))!=4 else x)"
   ]
  },
  {
   "cell_type": "code",
   "execution_count": null,
   "metadata": {},
   "outputs": [],
   "source": [
    "#extract the month from the checkin_date\n",
    "club[\"Check_in_month\"] = club[\"checkin_date\"].dt.month"
   ]
  },
  {
   "cell_type": "code",
   "execution_count": null,
   "metadata": {},
   "outputs": [],
   "source": [
    "club['booking_duration'] = (club['checkin_date']-club['booking_date']).dt.days"
   ]
  },
  {
   "cell_type": "code",
   "execution_count": null,
   "metadata": {},
   "outputs": [],
   "source": [
    "club['no_of_days_spent_in_resort'] = (club['checkout_date']-club['checkin_date']).dt.days"
   ]
  },
  {
   "cell_type": "code",
   "execution_count": null,
   "metadata": {},
   "outputs": [],
   "source": [
    "club_test['booking_date']= pd.to_datetime(club_test['booking_date'], dayfirst=True)\n",
    "club_test['booking_date'] =club_test['booking_date'].apply(lambda x: '20'+str(x.year) if len(str(x.year))!=4 else x)"
   ]
  },
  {
   "cell_type": "code",
   "execution_count": null,
   "metadata": {},
   "outputs": [],
   "source": [
    "club_test['checkin_date']= pd.to_datetime(club_test['checkin_date'], dayfirst=True)\n",
    "club_test['checkin_date'] =club_test['checkin_date'].apply(lambda x: '20'+str(x.year) if len(str(x.year))!=4 else x)"
   ]
  },
  {
   "cell_type": "code",
   "execution_count": null,
   "metadata": {},
   "outputs": [],
   "source": [
    "club_test['checkout_date']= pd.to_datetime(club_test['checkout_date'], dayfirst=True)\n",
    "club_test['checkout_date'] =club_test['checkout_date'].apply(lambda x: '20'+str(x.year) if len(str(x.year))!=4 else x)"
   ]
  },
  {
   "cell_type": "code",
   "execution_count": null,
   "metadata": {},
   "outputs": [],
   "source": [
    "#extract the month from the checkin_date\n",
    "club_test[\"Check_in_month\"] = club_test[\"checkin_date\"].dt.month"
   ]
  },
  {
   "cell_type": "code",
   "execution_count": null,
   "metadata": {},
   "outputs": [],
   "source": [
    "club_test['booking_duration'] = (club_test['checkin_date']-club_test['booking_date']).dt.days"
   ]
  },
  {
   "cell_type": "code",
   "execution_count": null,
   "metadata": {},
   "outputs": [],
   "source": [
    "club_test['no_of_days_spent_in_resort'] = (club_test['checkout_date']-club_test['checkin_date']).dt.days"
   ]
  },
  {
   "cell_type": "markdown",
   "metadata": {},
   "source": [
    "# dividing the data based on seasons:"
   ]
  },
  {
   "cell_type": "code",
   "execution_count": null,
   "metadata": {},
   "outputs": [],
   "source": [
    "# creating a seasons for various time period of the year\n",
    "def months(x):\n",
    "    'divide the year into four categories'\n",
    "    if x < 3:\n",
    "        return \"Spring\"\n",
    "    elif 3 <= x < 6:\n",
    "        return \"Summer\"\n",
    "    elif 6 <= x < 9:\n",
    "        return \"Rainy\"\n",
    "    else:\n",
    "        return \"Winter\"\n",
    "\n",
    "club['Check_in_month'] = club.Check_in_month.apply(lambda x: months(x))\n",
    "club_test['Check_in_month'] = club_test.Check_in_month.apply(lambda x: months(x))"
   ]
  },
  {
   "cell_type": "code",
   "execution_count": null,
   "metadata": {},
   "outputs": [],
   "source": [
    "club.Check_in_month.value_counts()"
   ]
  },
  {
   "cell_type": "code",
   "execution_count": null,
   "metadata": {
    "scrolled": false
   },
   "outputs": [],
   "source": [
    "#missing data\n",
    "total = club.isnull().sum().sort_values(ascending=False)\n",
    "percent = (club.isnull().sum()/club.isnull().count()).sort_values(ascending=False)\n",
    "null_data = pd.concat([total, percent], axis=1, keys=['Total', 'Percent'])\n",
    "null_data.head(10)\n"
   ]
  },
  {
   "cell_type": "markdown",
   "metadata": {},
   "source": [
    "# since the null rows are very less we will drop these rows"
   ]
  },
  {
   "cell_type": "code",
   "execution_count": null,
   "metadata": {},
   "outputs": [],
   "source": [
    "club = club.dropna()\n",
    "club_test = club_test.dropna()"
   ]
  },
  {
   "cell_type": "code",
   "execution_count": null,
   "metadata": {},
   "outputs": [],
   "source": [
    "club.info()"
   ]
  },
  {
   "cell_type": "code",
   "execution_count": null,
   "metadata": {
    "scrolled": true
   },
   "outputs": [],
   "source": [
    "club.shape"
   ]
  },
  {
   "cell_type": "code",
   "execution_count": null,
   "metadata": {
    "scrolled": true
   },
   "outputs": [],
   "source": [
    "#correlation matrix\n",
    "corrmat = club.corr()\n",
    "f, ax = plt.subplots(figsize=(20, 15))\n",
    "sns.heatmap(corrmat, vmax=.8, square=True);"
   ]
  },
  {
   "cell_type": "code",
   "execution_count": null,
   "metadata": {},
   "outputs": [],
   "source": [
    "#creating correlation matrix for the principal components\n",
    "#corrmat = np.corrcoef(club.transpose())"
   ]
  },
  {
   "cell_type": "code",
   "execution_count": null,
   "metadata": {},
   "outputs": [],
   "source": [
    "# 1s -> 0s in diagonals\n",
    "#corrmat_nodiag = corrmat - np.diagflat(corrmat.diagonal())\n",
    "#print(\"max corr:\",corrmat_nodiag.max(), \", min corr: \", corrmat_nodiag.min(),)\n",
    "# we see that correlations are indeed very close to 0"
   ]
  },
  {
   "cell_type": "markdown",
   "metadata": {},
   "source": [
    "# since we have created new features using date and there are few features which are not neccessary we will drop them"
   ]
  },
  {
   "cell_type": "code",
   "execution_count": null,
   "metadata": {},
   "outputs": [],
   "source": [
    "club= club.drop(['reservation_id','memberid','booking_date','checkin_date','checkout_date'],axis=1)\n",
    "club_test= club_test.drop(['reservation_id','memberid','booking_date','checkin_date','checkout_date'],axis=1)"
   ]
  },
  {
   "cell_type": "code",
   "execution_count": null,
   "metadata": {},
   "outputs": [],
   "source": [
    "# Check the columns which are of type 'object'\n",
    "\n",
    "temp = club.loc[:,club.dtypes == 'object']\n",
    "temp.columns"
   ]
  },
  {
   "cell_type": "markdown",
   "metadata": {},
   "source": [
    "# Step 3- Exploratory data analysis:"
   ]
  },
  {
   "cell_type": "markdown",
   "metadata": {},
   "source": [
    "# subplots\n",
    "plt.figure(figsize=[15,5])\n",
    "# subplot 1\n",
    "plt.subplot(1, 3, 1)\n",
    "plt.title('channel_code')\n",
    "sns.distplot(club['channel_code'])\n",
    "\n",
    "# subplot 2\n",
    "plt.subplot(1, 3, 2)\n",
    "plt.title('main_product_code')\n",
    "sns.distplot(club['main_product_code'])\n",
    "\n",
    "# subplot 3\n",
    "plt.subplot(1, 3, 3)\n",
    "plt.title('numberofadults')\n",
    "sns.distplot(club['numberofadults'])\n",
    "\n",
    "plt.show()"
   ]
  },
  {
   "cell_type": "markdown",
   "metadata": {},
   "source": [
    "# adjust figure size\n",
    "plt.figure(figsize=(15, 5))\n",
    "\n",
    "# subplot 1:\n",
    "plt.subplot(1, 3, 1)\n",
    "sns.boxplot( y='channel_code', data=club)\n",
    "plt.title(\"channel_code\")\n",
    "#plt.yscale('log')\n",
    "\n",
    "# subplot 2:\n",
    "plt.subplot(1, 3, 2)\n",
    "sns.boxplot( y='main_product_code', data=club)\n",
    "plt.title(\"main_product_code\")\n",
    "#plt.yscale('log')\n",
    "\n",
    "# subplot 2\n",
    "plt.subplot(1, 3, 3)\n",
    "sns.boxplot( y='numberofadults', data=club)\n",
    "plt.title(\"numberofadults\")\n",
    "#plt.yscale('log')\n",
    "\n",
    "plt.show()"
   ]
  },
  {
   "cell_type": "markdown",
   "metadata": {},
   "source": [
    "# subplots\n",
    "plt.figure(figsize=[15,5])\n",
    "# subplot 1\n",
    "plt.subplot(1, 3, 1)\n",
    "plt.title('numberofchildren')\n",
    "sns.distplot(club['numberofchildren'])\n",
    "\n",
    "# subplot 2\n",
    "plt.subplot(1, 3, 2)\n",
    "plt.title('persontravellingid')\n",
    "sns.distplot(club['persontravellingid'])\n",
    "\n",
    "# subplot 3\n",
    "plt.subplot(1, 3, 3)\n",
    "plt.title('resort_region_code')\n",
    "sns.distplot(club['resort_region_code'])\n",
    "\n",
    "plt.show()"
   ]
  },
  {
   "cell_type": "markdown",
   "metadata": {},
   "source": [
    "# adjust figure size\n",
    "plt.figure(figsize=(15, 5))\n",
    "\n",
    "# subplot 1\n",
    "plt.subplot(1, 3, 1)\n",
    "sns.boxplot( y='numberofchildren', data=club)\n",
    "plt.title(\"numberofchildren\")\n",
    "#plt.yscale('log')\n",
    "\n",
    "# subplot 2\n",
    "plt.subplot(1, 3, 2)\n",
    "sns.boxplot( y='persontravellingid', data=club)\n",
    "plt.title(\"persontravellingid\")\n",
    "#plt.yscale('log')\n",
    "\n",
    "# subplot 2\n",
    "plt.subplot(1, 3, 3)\n",
    "sns.boxplot( y='resort_region_code', data=club)\n",
    "plt.title(\"resort_region_code\")\n",
    "#plt.yscale('log')\n",
    "\n",
    "plt.show()"
   ]
  },
  {
   "cell_type": "markdown",
   "metadata": {},
   "source": [
    "# subplots\n",
    "plt.figure(figsize=[15,5])\n",
    "# subplot 1\n",
    "plt.subplot(1, 3, 1)\n",
    "plt.title('resort_type_code')\n",
    "sns.distplot(club['resort_type_code'])\n",
    "\n",
    "# subplot 2\n",
    "plt.subplot(1, 3, 2)\n",
    "plt.title('room_type_booked_code')\n",
    "sns.distplot(club['room_type_booked_code'])\n",
    "\n",
    "# subplot 3\n",
    "plt.subplot(1, 3, 3)\n",
    "plt.title('roomnights')\n",
    "sns.distplot(club['roomnights'])\n",
    "\n",
    "plt.show()"
   ]
  },
  {
   "cell_type": "markdown",
   "metadata": {},
   "source": [
    "# adjust figure size\n",
    "plt.figure(figsize=(15, 5))\n",
    "\n",
    "# subplot 1\n",
    "plt.subplot(1, 3, 1)\n",
    "sns.boxplot( y='resort_type_code', data=club)\n",
    "plt.title(\"resort_type_code\")\n",
    "#plt.yscale('log')\n",
    "\n",
    "# subplot 2\n",
    "plt.subplot(1, 3, 2)\n",
    "sns.boxplot( y='room_type_booked_code', data=club)\n",
    "plt.title(\"room_type_booked_code\")\n",
    "#plt.yscale('log')\n",
    "\n",
    "# subplot 2\n",
    "plt.subplot(1, 3, 3)\n",
    "sns.boxplot( y='roomnights', data=club)\n",
    "plt.title(\"roomnights\")\n",
    "#plt.yscale('log')\n",
    "\n",
    "plt.show()"
   ]
  },
  {
   "cell_type": "markdown",
   "metadata": {},
   "source": [
    "# adjust figure size\n",
    "plt.figure(figsize=(15, 5))\n",
    "\n",
    "# subplot 1\n",
    "plt.subplot(1, 3, 2)\n",
    "plt.title('season_holidayed_code')\n",
    "sns.distplot(club['season_holidayed_code'])\n",
    "\n",
    "# subplot 2\n",
    "plt.subplot(1, 3, 2)\n",
    "plt.title('state_code_residence')\n",
    "sns.distplot(club['state_code_residence'])\n",
    "\n",
    "# subplot 3\n",
    "plt.subplot(1, 3, 3)\n",
    "plt.title('state_code_resort')\n",
    "sns.distplot(club['state_code_resort'])\n",
    "\n",
    "plt.show()"
   ]
  },
  {
   "cell_type": "markdown",
   "metadata": {},
   "source": [
    "# adjust figure size\n",
    "plt.figure(figsize=(15, 5))\n",
    "\n",
    "plt.subplot(1, 3, 2)\n",
    "sns.boxplot( y='season_holidayed_code', data=club)\n",
    "plt.title(\"season_holidayed_code\")\n",
    "#plt.yscale('log')\n",
    "\n",
    "\n",
    "\n",
    "plt.subplot(1, 3, 2)\n",
    "sns.boxplot( y='state_code_residence', data=club)\n",
    "plt.title(\"state_code_residence\")\n",
    "#plt.yscale('log')\n",
    "\n",
    "\n",
    "plt.subplot(1, 3, 3)\n",
    "sns.boxplot( y='state_code_resort', data=club)\n",
    "plt.title(\"state_code_resort\")\n",
    "#plt.yscale('log')\n",
    "\n",
    "plt.show()"
   ]
  },
  {
   "cell_type": "markdown",
   "metadata": {},
   "source": [
    "# subplots\n",
    "plt.figure(figsize=[15,5])\n",
    "# subplot 1\n",
    "plt.subplot(1, 3, 1)\n",
    "plt.title('total_pax')\n",
    "sns.distplot(club['total_pax'])\n",
    "\n",
    "# subplot 2\n",
    "plt.subplot(1, 3, 2)\n",
    "plt.title('booking_type_code')\n",
    "sns.distplot(club['booking_type_code'])\n"
   ]
  },
  {
   "cell_type": "markdown",
   "metadata": {
    "scrolled": true
   },
   "source": [
    "# adjust figure size\n",
    "plt.figure(figsize=(15, 5))\n",
    "\n",
    "plt.subplot(1, 3, 1)\n",
    "sns.boxplot( y='total_pax', data=club)\n",
    "plt.title(\"total_pax\")\n",
    "#plt.yscale('log')\n",
    "\n",
    "\n",
    "plt.subplot(1, 3, 2)\n",
    "sns.boxplot( y='booking_type_code', data=club)\n",
    "plt.title(\"booking_type_code\")\n",
    "#plt.yscale('log')\n",
    "\n"
   ]
  },
  {
   "cell_type": "markdown",
   "metadata": {},
   "source": [
    "\n",
    "\n",
    "\n",
    "total = float(len(club))   # finding total number of records\n",
    "plt.rcParams[\"figure.figsize\"] = (8, 6)    # setting size of plot\n",
    "ax= sns.countplot(x='no_of_days_spent_in_resort',palette=\"pastel\",data=club);    # creating a new plot based on status and hour\n",
    "for p in ax.patches:      # to create percentage of each bar\n",
    "    height = p.get_height()\n",
    "    ax.text(p.get_x()+p.get_width()/2.,\n",
    "            height + 3,\n",
    "            '{0:.0%}'.format(height/total),\n",
    "            ha=\"center\") "
   ]
  },
  {
   "cell_type": "code",
   "execution_count": null,
   "metadata": {},
   "outputs": [],
   "source": [
    "\n",
    "\n",
    "total = float(len(club))   # finding total number of records\n",
    "plt.rcParams[\"figure.figsize\"] = (8, 6)    # setting size of plot\n",
    "ax= sns.countplot(x='channel_code',palette=\"pastel\",data=club);    # creating a new plot based on status and hour\n",
    "for p in ax.patches:      # to create percentage of each bar\n",
    "    height = p.get_height()\n",
    "    ax.text(p.get_x()+p.get_width()/2.,\n",
    "            height + 3,\n",
    "            '{0:.0%}'.format(height/total),\n",
    "            ha=\"center\") "
   ]
  },
  {
   "cell_type": "code",
   "execution_count": null,
   "metadata": {},
   "outputs": [],
   "source": [
    "\n",
    "\n",
    "total = float(len(club))   # finding total number of records\n",
    "plt.rcParams[\"figure.figsize\"] = (8, 6)    # setting size of plot\n",
    "ax= sns.countplot(x='main_product_code',palette=\"pastel\",data=club);    # creating a new plot based on status and hour\n",
    "for p in ax.patches:      # to create percentage of each bar\n",
    "    height = p.get_height()\n",
    "    ax.text(p.get_x()+p.get_width()/2.,\n",
    "            height + 3,\n",
    "            '{0:.0%}'.format(height/total),\n",
    "            ha=\"center\") "
   ]
  },
  {
   "cell_type": "code",
   "execution_count": null,
   "metadata": {},
   "outputs": [],
   "source": [
    "\n",
    "\n",
    "\n",
    "total = float(len(club))   # finding total number of records\n",
    "plt.rcParams[\"figure.figsize\"] = (8, 6)    # setting size of plot\n",
    "ax= sns.countplot(x='numberofadults',palette=\"pastel\",data=club);    # creating a new plot based on status and hour\n",
    "for p in ax.patches:      # to create percentage of each bar\n",
    "    height = p.get_height()\n",
    "    ax.text(p.get_x()+p.get_width()/2.,\n",
    "            height + 3,\n",
    "            '{0:.0%}'.format(height/total),\n",
    "            ha=\"center\") "
   ]
  },
  {
   "cell_type": "code",
   "execution_count": null,
   "metadata": {},
   "outputs": [],
   "source": [
    "\n",
    "total = float(len(club))   # finding total number of records\n",
    "plt.rcParams[\"figure.figsize\"] = (8, 6)    # setting size of plot\n",
    "ax= sns.countplot(x='numberofchildren',palette=\"pastel\",data=club);    # creating a new plot based on status and hour\n",
    "for p in ax.patches:      # to create percentage of each bar\n",
    "    height = p.get_height()\n",
    "    ax.text(p.get_x()+p.get_width()/2.,\n",
    "            height + 3,\n",
    "            '{0:.0%}'.format(height/total),\n",
    "            ha=\"center\") "
   ]
  },
  {
   "cell_type": "code",
   "execution_count": null,
   "metadata": {},
   "outputs": [],
   "source": [
    "\n",
    "total = float(len(club))   # finding total number of records\n",
    "plt.rcParams[\"figure.figsize\"] = (8, 6)    # setting size of plot\n",
    "ax= sns.countplot(x='persontravellingid',palette=\"pastel\",data=club);    # creating a new plot based on status and hour\n",
    "for p in ax.patches:      # to create percentage of each bar\n",
    "    height = p.get_height()\n",
    "    ax.text(p.get_x()+p.get_width()/2.,\n",
    "            height + 3,\n",
    "            '{0:.0%}'.format(height/total),\n",
    "            ha=\"center\") "
   ]
  },
  {
   "cell_type": "code",
   "execution_count": null,
   "metadata": {},
   "outputs": [],
   "source": [
    "\n",
    "total = float(len(club))   # finding total number of records\n",
    "plt.rcParams[\"figure.figsize\"] = (8, 6)    # setting size of plot\n",
    "ax= sns.countplot(x='resort_region_code',palette=\"pastel\",data=club);    # creating a new plot based on status and hour\n",
    "for p in ax.patches:      # to create percentage of each bar\n",
    "    height = p.get_height()\n",
    "    ax.text(p.get_x()+p.get_width()/2.,\n",
    "            height + 3,\n",
    "            '{0:.0%}'.format(height/total),\n",
    "            ha=\"center\") "
   ]
  },
  {
   "cell_type": "code",
   "execution_count": null,
   "metadata": {},
   "outputs": [],
   "source": [
    "\n",
    "total = float(len(club))   # finding total number of records\n",
    "plt.rcParams[\"figure.figsize\"] = (8, 6)    # setting size of plot\n",
    "ax= sns.countplot(x='resort_type_code',palette=\"pastel\",data=club);    # creating a new plot based on status and hour\n",
    "for p in ax.patches:      # to create percentage of each bar\n",
    "    height = p.get_height()\n",
    "    ax.text(p.get_x()+p.get_width()/2.,\n",
    "            height + 3,\n",
    "            '{0:.0%}'.format(height/total),\n",
    "            ha=\"center\") "
   ]
  },
  {
   "cell_type": "code",
   "execution_count": null,
   "metadata": {},
   "outputs": [],
   "source": [
    "\n",
    "total = float(len(club))   # finding total number of records\n",
    "plt.rcParams[\"figure.figsize\"] = (8, 6)    # setting size of plot\n",
    "ax= sns.countplot(x='room_type_booked_code',palette=\"pastel\",data=club);    # creating a new plot based on status and hour\n",
    "for p in ax.patches:      # to create percentage of each bar\n",
    "    height = p.get_height()\n",
    "    ax.text(p.get_x()+p.get_width()/2.,\n",
    "            height + 3,\n",
    "            '{0:.0%}'.format(height/total),\n",
    "            ha=\"center\") "
   ]
  },
  {
   "cell_type": "code",
   "execution_count": null,
   "metadata": {},
   "outputs": [],
   "source": [
    "\n",
    "total = float(len(club))   # finding total number of records\n",
    "plt.rcParams[\"figure.figsize\"] = (8, 6)    # setting size of plot\n",
    "ax= sns.countplot(x='roomnights',palette=\"pastel\",data=club);    # creating a new plot based on status and hour\n",
    "for p in ax.patches:      # to create percentage of each bar\n",
    "    height = p.get_height()\n",
    "    ax.text(p.get_x()+p.get_width()/2.,\n",
    "            height + 3,\n",
    "            '{0:.0%}'.format(height/total),\n",
    "            ha=\"center\") "
   ]
  },
  {
   "cell_type": "code",
   "execution_count": null,
   "metadata": {},
   "outputs": [],
   "source": [
    "\n",
    "total = float(len(club))   # finding total number of records\n",
    "plt.rcParams[\"figure.figsize\"] = (8, 6)    # setting size of plot\n",
    "ax= sns.countplot(x='season_holidayed_code',palette=\"pastel\",data=club);    # creating a new plot based on status and hour\n",
    "for p in ax.patches:      # to create percentage of each bar\n",
    "    height = p.get_height()\n",
    "    ax.text(p.get_x()+p.get_width()/2.,\n",
    "            height + 3,\n",
    "            '{0:.0%}'.format(height/total),\n",
    "            ha=\"center\") "
   ]
  },
  {
   "cell_type": "code",
   "execution_count": null,
   "metadata": {},
   "outputs": [],
   "source": [
    "\n",
    "total = float(len(club))   # finding total number of records\n",
    "plt.rcParams[\"figure.figsize\"] = (8, 6)    # setting size of plot\n",
    "ax= sns.countplot(x='state_code_residence',palette=\"pastel\",data=club);    # creating a new plot based on status and hour\n",
    "for p in ax.patches:      # to create percentage of each bar\n",
    "    height = p.get_height()\n",
    "    ax.text(p.get_x()+p.get_width()/2.,\n",
    "            height + 3,\n",
    "            '{0:.0%}'.format(height/total),\n",
    "            ha=\"center\") "
   ]
  },
  {
   "cell_type": "code",
   "execution_count": null,
   "metadata": {},
   "outputs": [],
   "source": [
    "\n",
    "total = float(len(club))   # finding total number of records\n",
    "plt.rcParams[\"figure.figsize\"] = (8, 6)    # setting size of plot\n",
    "ax= sns.countplot(x='state_code_resort',palette=\"pastel\",data=club);    # creating a new plot based on status and hour\n",
    "for p in ax.patches:      # to create percentage of each bar\n",
    "    height = p.get_height()\n",
    "    ax.text(p.get_x()+p.get_width()/2.,\n",
    "            height + 3,\n",
    "            '{0:.0%}'.format(height/total),\n",
    "            ha=\"center\") "
   ]
  },
  {
   "cell_type": "code",
   "execution_count": null,
   "metadata": {},
   "outputs": [],
   "source": [
    "\n",
    "total = float(len(club))   # finding total number of records\n",
    "plt.rcParams[\"figure.figsize\"] = (8, 6)    # setting size of plot\n",
    "ax= sns.countplot(x='total_pax',palette=\"pastel\",data=club);    # creating a new plot based on status and hour\n",
    "for p in ax.patches:      # to create percentage of each bar\n",
    "    height = p.get_height()\n",
    "    ax.text(p.get_x()+p.get_width()/2.,\n",
    "            height + 3,\n",
    "            '{0:.0%}'.format(height/total),\n",
    "            ha=\"center\") "
   ]
  },
  {
   "cell_type": "code",
   "execution_count": null,
   "metadata": {},
   "outputs": [],
   "source": [
    "\n",
    "total = float(len(club))   # finding total number of records\n",
    "plt.rcParams[\"figure.figsize\"] = (8, 6)    # setting size of plot\n",
    "ax= sns.countplot(x='member_age_buckets',palette=\"pastel\",data=club);    # creating a new plot based on status and hour\n",
    "for p in ax.patches:      # to create percentage of each bar\n",
    "    height = p.get_height()\n",
    "    ax.text(p.get_x()+p.get_width()/2.,\n",
    "            height + 3,\n",
    "            '{0:.0%}'.format(height/total),\n",
    "            ha=\"center\") "
   ]
  },
  {
   "cell_type": "code",
   "execution_count": null,
   "metadata": {},
   "outputs": [],
   "source": [
    "\n",
    "total = float(len(club))   # finding total number of records\n",
    "plt.rcParams[\"figure.figsize\"] = (8, 6)    # setting size of plot\n",
    "ax= sns.countplot(x='booking_type_code',palette=\"pastel\",data=club);    # creating a new plot based on status and hour\n",
    "for p in ax.patches:      # to create percentage of each bar\n",
    "    height = p.get_height()\n",
    "    ax.text(p.get_x()+p.get_width()/2.,\n",
    "            height + 3,\n",
    "            '{0:.0%}'.format(height/total),\n",
    "            ha=\"center\") "
   ]
  },
  {
   "cell_type": "code",
   "execution_count": null,
   "metadata": {},
   "outputs": [],
   "source": [
    "\n",
    "total = float(len(club))   # finding total number of records\n",
    "plt.rcParams[\"figure.figsize\"] = (8, 6)    # setting size of plot\n",
    "ax= sns.countplot(x='cluster_code',palette=\"pastel\",data=club);    # creating a new plot based on status and hour\n",
    "for p in ax.patches:      # to create percentage of each bar\n",
    "    height = p.get_height()\n",
    "    ax.text(p.get_x()+p.get_width()/2.,\n",
    "            height + 3,\n",
    "            '{0:.0%}'.format(height/total),\n",
    "            ha=\"center\") "
   ]
  },
  {
   "cell_type": "code",
   "execution_count": null,
   "metadata": {},
   "outputs": [],
   "source": [
    "\n",
    "total = float(len(club))   # finding total number of records\n",
    "plt.rcParams[\"figure.figsize\"] = (8, 6)    # setting size of plot\n",
    "ax= sns.countplot(x='reservationstatusid_code',palette=\"pastel\",data=club);    # creating a new plot based on status and hour\n",
    "for p in ax.patches:      # to create percentage of each bar\n",
    "    height = p.get_height()\n",
    "    ax.text(p.get_x()+p.get_width()/2.,\n",
    "            height + 3,\n",
    "            '{0:.0%}'.format(height/total),\n",
    "            ha=\"center\") "
   ]
  },
  {
   "cell_type": "code",
   "execution_count": null,
   "metadata": {},
   "outputs": [],
   "source": [
    "\n",
    "total = float(len(club))   # finding total number of records\n",
    "plt.rcParams[\"figure.figsize\"] = (8, 6)    # setting size of plot\n",
    "ax= sns.countplot(x='resort_id',palette=\"pastel\",data=club);    # creating a new plot based on status and hour\n",
    "for p in ax.patches:      # to create percentage of each bar\n",
    "    height = p.get_height()\n",
    "    ax.text(p.get_x()+p.get_width()/2.,\n",
    "            height + 3,\n",
    "            '{0:.0%}'.format(height/total),\n",
    "            ha=\"center\") "
   ]
  },
  {
   "cell_type": "code",
   "execution_count": null,
   "metadata": {},
   "outputs": [],
   "source": [
    "\n",
    "total = float(len(club))   # finding total number of records\n",
    "plt.rcParams[\"figure.figsize\"] = (8, 6)    # setting size of plot\n",
    "ax= sns.countplot(x='Check_in_month',palette=\"pastel\",data=club);    # creating a new plot based on status and hour\n",
    "for p in ax.patches:      # to create percentage of each bar\n",
    "    height = p.get_height()\n",
    "    ax.text(p.get_x()+p.get_width()/2.,\n",
    "            height + 3,\n",
    "            '{0:.0%}'.format(height/total),\n",
    "            ha=\"center\") "
   ]
  },
  {
   "cell_type": "code",
   "execution_count": null,
   "metadata": {},
   "outputs": [],
   "source": [
    "\n",
    "total = float(len(club))   # finding total number of records\n",
    "plt.rcParams[\"figure.figsize\"] = (8, 6)    # setting size of plot\n",
    "ax= sns.countplot(x='booking_duration',palette=\"pastel\",data=club);    # creating a new plot based on status and hour\n",
    "for p in ax.patches:      # to create percentage of each bar\n",
    "    height = p.get_height()\n",
    "    ax.text(p.get_x()+p.get_width()/2.,\n",
    "            height + 3,\n",
    "            '{0:.0%}'.format(height/total),\n",
    "            ha=\"center\") "
   ]
  },
  {
   "cell_type": "code",
   "execution_count": null,
   "metadata": {
    "scrolled": true
   },
   "outputs": [],
   "source": [
    "\n",
    "total = float(len(club))   # finding total number of records\n",
    "plt.rcParams[\"figure.figsize\"] = (8, 6)    # setting size of plot\n",
    "ax= sns.countplot(x='no_of_days_spent_in_resort',palette=\"pastel\",data=club);    # creating a new plot based on status and hour\n",
    "for p in ax.patches:      # to create percentage of each bar\n",
    "    height = p.get_height()\n",
    "    ax.text(p.get_x()+p.get_width()/2.,\n",
    "            height + 3,\n",
    "            '{0:.0%}'.format(height/total),\n",
    "            ha=\"center\") "
   ]
  },
  {
   "cell_type": "markdown",
   "metadata": {},
   "source": [
    "# we can drop resort id since it has categorical data and if we create its dummy it will be too high"
   ]
  },
  {
   "cell_type": "code",
   "execution_count": null,
   "metadata": {},
   "outputs": [],
   "source": [
    "club.drop(['resort_id'], axis = 1, inplace = True)\n",
    "club_test.drop(['resort_id'], axis = 1, inplace = True)"
   ]
  },
  {
   "cell_type": "code",
   "execution_count": null,
   "metadata": {},
   "outputs": [],
   "source": [
    "club.shape"
   ]
  },
  {
   "cell_type": "markdown",
   "metadata": {},
   "source": [
    "# Step 4 - Dummy variable creation :"
   ]
  },
  {
   "cell_type": "code",
   "execution_count": null,
   "metadata": {},
   "outputs": [],
   "source": [
    "# creating a seasons for various time period of the year\n",
    "def ids(x):\n",
    "    'divide the year into four categories'\n",
    "    if x == 45:\n",
    "        return \"A\"\n",
    "    elif x == 46:\n",
    "        return \"B\"\n",
    "    elif x == 47:\n",
    "        return \"C\"\n",
    "    elif x == 4752:\n",
    "        return \"D\"\n",
    "    elif x == 4753:\n",
    "        return \"E\"\n",
    "    else:\n",
    "        return \"F\"\n",
    "\n",
    "club['persontravellingid'] = club.persontravellingid.apply(lambda x: ids(x))\n",
    "club_test['persontravellingid'] = club_test.persontravellingid.apply(lambda x: ids(x))"
   ]
  },
  {
   "cell_type": "code",
   "execution_count": null,
   "metadata": {},
   "outputs": [],
   "source": [
    "# creating a seasons for various time period of the year\n",
    "def ids(x):\n",
    "    'divide  categories'\n",
    "    if x == 1:\n",
    "        return \"A\"\n",
    "    elif x == 2:\n",
    "        return \"B\"\n",
    "    \n",
    "    else:\n",
    "        return \"c\"\n",
    "\n",
    "club['channel_code'] = club.channel_code.apply(lambda x: ids(x))\n",
    "club_test['channel_code'] = club_test.channel_code.apply(lambda x: ids(x))"
   ]
  },
  {
   "cell_type": "code",
   "execution_count": null,
   "metadata": {},
   "outputs": [],
   "source": [
    "# creating a seasons for various time period of the year\n",
    "def ids(x):\n",
    "    'divide  categories'\n",
    "    if x == 1:\n",
    "        return \"A\"\n",
    "    elif x == 2:\n",
    "        return \"B\"\n",
    "    elif x == 3:\n",
    "        return \"C\"\n",
    "    elif x == 4:\n",
    "        return \"D\"\n",
    "    \n",
    "    else:\n",
    "        return \"E\"\n",
    "\n",
    "club['main_product_code'] = club.main_product_code.apply(lambda x: ids(x))\n",
    "club_test['main_product_code'] = club_test.main_product_code.apply(lambda x: ids(x))"
   ]
  },
  {
   "cell_type": "code",
   "execution_count": null,
   "metadata": {},
   "outputs": [],
   "source": [
    "# creating a seasons for various time period of the year\n",
    "def ids(x):\n",
    "    'divide  categories'\n",
    "    if x == 1:\n",
    "        return \"A\"\n",
    "    elif x == 2:\n",
    "        return \"B\"\n",
    "    \n",
    "    else:\n",
    "        return \"C\"\n",
    "\n",
    "club['resort_region_code'] = club.resort_region_code.apply(lambda x: ids(x))\n",
    "club_test['resort_region_code'] = club_test.resort_region_code.apply(lambda x: ids(x))"
   ]
  },
  {
   "cell_type": "code",
   "execution_count": null,
   "metadata": {},
   "outputs": [],
   "source": [
    "# creating a seasons for various time period of the year\n",
    "def ids(x):\n",
    "    'divide  categories'\n",
    "    if x == 1:\n",
    "        return \"A\"\n",
    "    elif x == 2:\n",
    "        return \"B\"\n",
    "    elif x == 3:\n",
    "        return \"C\"\n",
    "    elif x == 4:\n",
    "        return \"D\"\n",
    "    elif x == 5:\n",
    "        return \"E\"\n",
    "    elif x == 6:\n",
    "        return \"F\"\n",
    "    else:\n",
    "        return \"G\"\n",
    "\n",
    "club['resort_type_code'] = club.resort_type_code.apply(lambda x: ids(x))\n",
    "club_test['resort_type_code'] = club_test.resort_type_code.apply(lambda x: ids(x))"
   ]
  },
  {
   "cell_type": "code",
   "execution_count": null,
   "metadata": {},
   "outputs": [],
   "source": [
    "# creating a seasons for various time period of the year\n",
    "def ids(x):\n",
    "    'divide the year into four categories'\n",
    "    if x == 1:\n",
    "        return \"A\"\n",
    "    elif x == 2:\n",
    "        return \"B\"\n",
    "    elif x == 3:\n",
    "        return \"C\"\n",
    "    elif x == 4:\n",
    "        return \"D\"\n",
    "    elif x == 5:\n",
    "        return \"E\"\n",
    "    else:\n",
    "        return \"F\"\n",
    "\n",
    "club['room_type_booked_code'] = club.room_type_booked_code.apply(lambda x: ids(x))\n",
    "club_test['room_type_booked_code'] = club_test.room_type_booked_code.apply(lambda x: ids(x))"
   ]
  },
  {
   "cell_type": "code",
   "execution_count": null,
   "metadata": {},
   "outputs": [],
   "source": [
    "# creating a seasons for various time period of the year\n",
    "def ids(x):\n",
    "    'divide the year into four categories'\n",
    "    if x == 1:\n",
    "        return \"A\"\n",
    "    elif x ==2:\n",
    "        return \"B\"\n",
    "    elif x == 3:\n",
    "        return \"C\"\n",
    "    elif x == 4:\n",
    "        return \"D\"\n",
    "    elif x == 5:\n",
    "        return \"E\"\n",
    "    elif x == 6:\n",
    "        return \"F\"\n",
    "    elif x == 7:\n",
    "        return \"G\"\n",
    "    elif x == 8:\n",
    "        return \"H\"\n",
    "    elif x == 9:\n",
    "        return \"I\"\n",
    "    elif x == 10:\n",
    "        return \"J\"\n",
    "    elif x == 11:\n",
    "        return \"K\"\n",
    "    elif x == 12:\n",
    "        return \"L\"\n",
    "    \n",
    "    else:\n",
    "        return \"M\"\n",
    "\n",
    "club['state_code_resort'] = club.state_code_resort.apply(lambda x: ids(x))\n",
    "club_test['state_code_resort'] = club_test.state_code_resort.apply(lambda x: ids(x))"
   ]
  },
  {
   "cell_type": "code",
   "execution_count": null,
   "metadata": {},
   "outputs": [],
   "source": [
    "\n",
    "# creating a seasons for various time period of the year\n",
    "def ids(x):\n",
    "    'divide the year into four categories'\n",
    "    if x == 1:\n",
    "        return \"A\"\n",
    "    elif x ==2:\n",
    "        return \"B\"\n",
    "    elif x == 3:\n",
    "        return \"C\"\n",
    "    elif x == 4:\n",
    "        return \"D\"\n",
    "    elif x == 5:\n",
    "        return \"E\"\n",
    "    elif x == 6:\n",
    "        return \"F\"\n",
    "    elif x == 7:\n",
    "        return \"G\"\n",
    "    elif x ==  8:\n",
    "        return \"H\"\n",
    "    elif x == 9:\n",
    "        return \"I\"\n",
    "    elif x ==10:\n",
    "        return \"J\"\n",
    "    elif x == 11:\n",
    "        return \"K\"\n",
    "    elif x == 12:\n",
    "        return \"L\"\n",
    "    elif x ==13:\n",
    "        return \"M\"\n",
    "    elif x == 14:\n",
    "        return \"N\"\n",
    "    elif x == 15:\n",
    "        return \"O\"\n",
    "    elif x == 16:\n",
    "        return \"P\"\n",
    "    elif x == 17:\n",
    "        return \"Q\"\n",
    "    elif x == 18:\n",
    "        return \"R\"\n",
    "    elif x == 19:\n",
    "        return \"S\"\n",
    "    elif x ==20:\n",
    "        return \"T\"\n",
    "    elif x ==21:\n",
    "        return \"U\"\n",
    "    elif x == 22:\n",
    "        return \"V\"\n",
    "    elif x == 23:\n",
    "        return \"W\"\n",
    "    elif x == 24:\n",
    "        return \"X\"\n",
    "    elif x ==25:\n",
    "        return \"Y\"\n",
    "    elif x == 26:\n",
    "        return \"Z\"\n",
    "    elif x == 27:\n",
    "        return \"AA\"\n",
    "    elif x == 28:\n",
    "        return \"AB\"\n",
    "    elif x ==29:\n",
    "        return \"AC\"\n",
    "    elif x ==30:\n",
    "        return \"AD\"\n",
    "    elif x == 31:\n",
    "        return \"AE\"\n",
    "    elif x == 32:\n",
    "        return \"AF\"\n",
    "    elif x == 33:\n",
    "        return \"AG\"\n",
    "    elif x ==34:\n",
    "        return \"AH\"\n",
    "    elif x == 35:\n",
    "        return \"AI\"\n",
    "    elif x == 36:\n",
    "        return \"AJ\"\n",
    "    \n",
    "    \n",
    "    else:\n",
    "        return \"AK\"\n",
    "\n",
    "club['state_code_residence'] = club.state_code_residence.apply(lambda x: ids(x))\n",
    "club_test['state_code_residence'] = club_test.state_code_residence.apply(lambda x: ids(x))"
   ]
  },
  {
   "cell_type": "code",
   "execution_count": null,
   "metadata": {},
   "outputs": [],
   "source": [
    "# creating a seasons for various time period of the year\n",
    "def ids(x):\n",
    "    'divide  categories'\n",
    "    if x == 1:\n",
    "        return \"A\"\n",
    "    else:\n",
    "        return \"B\"\n",
    "\n",
    "club['booking_type_code'] = club.booking_type_code.apply(lambda x: ids(x))\n",
    "club_test['booking_type_code'] = club_test.booking_type_code.apply(lambda x: ids(x))"
   ]
  },
  {
   "cell_type": "code",
   "execution_count": null,
   "metadata": {},
   "outputs": [],
   "source": [
    "club=club.dropna(subset=['season_holidayed_code'])\n",
    "# creating a seasons for various time period of the year\n",
    "def ids(x):\n",
    "    if x == 1:\n",
    "        return \"A\"\n",
    "    elif x == 2:\n",
    "        return \"B\"\n",
    "    elif x == 3:\n",
    "        return \"C\"\n",
    "    else:\n",
    "        return \"D\"         \n",
    "\n",
    "club['season_holidayed_code'] = club.booking_type_code.apply(lambda x: ids(x))\n",
    "club_test['season_holidayed_code'] = club_test.booking_type_code.apply(lambda x: ids(x))"
   ]
  },
  {
   "cell_type": "code",
   "execution_count": null,
   "metadata": {},
   "outputs": [],
   "source": [
    "# Create dummy variables using the 'get_dummies' command\n",
    "dummy = pd.get_dummies(club[['member_age_buckets', 'cluster_code', 'reservationstatusid_code','Check_in_month','persontravellingid','channel_code','main_product_code','resort_region_code','resort_type_code','room_type_booked_code','state_code_resort','state_code_residence','booking_type_code','season_holidayed_code']], drop_first=True)"
   ]
  },
  {
   "cell_type": "code",
   "execution_count": null,
   "metadata": {},
   "outputs": [],
   "source": [
    "# Create dummy variables using the 'get_dummies' command\n",
    "dummy = pd.get_dummies(club_test[['member_age_buckets', 'cluster_code', 'reservationstatusid_code','Check_in_month','persontravellingid','channel_code','main_product_code','resort_region_code','resort_type_code','room_type_booked_code','state_code_resort','state_code_residence','booking_type_code','season_holidayed_code']], drop_first=True)"
   ]
  },
  {
   "cell_type": "code",
   "execution_count": null,
   "metadata": {},
   "outputs": [],
   "source": [
    "# Add the results to the master dataframe\n",
    "club = pd.concat([club, dummy], axis=1)"
   ]
  },
  {
   "cell_type": "code",
   "execution_count": null,
   "metadata": {},
   "outputs": [],
   "source": [
    "club_test = pd.concat([club_test, dummy], axis=1)"
   ]
  },
  {
   "cell_type": "code",
   "execution_count": null,
   "metadata": {},
   "outputs": [],
   "source": [
    "# Drop the variables for which the dummy variables have been created\n",
    "\n",
    "club = club.drop(['member_age_buckets', 'cluster_code', 'reservationstatusid_code',\n",
    "      'Check_in_month','persontravellingid','channel_code','main_product_code','resort_region_code','resort_type_code','room_type_booked_code','state_code_resort','state_code_residence','booking_type_code','season_holidayed_code'], 1)"
   ]
  },
  {
   "cell_type": "code",
   "execution_count": null,
   "metadata": {},
   "outputs": [],
   "source": [
    "club_test = club_test.drop(['member_age_buckets', 'cluster_code', 'reservationstatusid_code',\n",
    "      'Check_in_month','persontravellingid','channel_code','main_product_code','resort_region_code','resort_type_code','room_type_booked_code','state_code_resort','state_code_residence','booking_type_code','season_holidayed_code'], 1)"
   ]
  },
  {
   "cell_type": "code",
   "execution_count": null,
   "metadata": {
    "scrolled": false
   },
   "outputs": [],
   "source": [
    "club.head(5)"
   ]
  },
  {
   "cell_type": "code",
   "execution_count": null,
   "metadata": {},
   "outputs": [],
   "source": [
    "club.columns"
   ]
  },
  {
   "cell_type": "markdown",
   "metadata": {},
   "source": [
    "# Step 5- scalling of data :"
   ]
  },
  {
   "cell_type": "code",
   "execution_count": null,
   "metadata": {
    "scrolled": true
   },
   "outputs": [],
   "source": [
    "# Checking outliers at 25%,50%,75%,90%,95% and 99%\n",
    "club.describe(percentiles=[.25,.5,.75,.90,.95,.99])"
   ]
  },
  {
   "cell_type": "code",
   "execution_count": null,
   "metadata": {},
   "outputs": [],
   "source": [
    "club.columns"
   ]
  },
  {
   "cell_type": "markdown",
   "metadata": {},
   "source": [
    "# as we dont have any value which sems to be out of range there is no need to scale data"
   ]
  },
  {
   "cell_type": "markdown",
   "metadata": {},
   "source": [
    "# Step 6 - test train split:"
   ]
  },
  {
   "cell_type": "code",
   "execution_count": null,
   "metadata": {},
   "outputs": [],
   "source": [
    "# Import the required library\n",
    "\n",
    "from sklearn.model_selection import train_test_split"
   ]
  },
  {
   "cell_type": "code",
   "execution_count": null,
   "metadata": {},
   "outputs": [],
   "source": [
    "# Put all the feature variables in X\n",
    "\n",
    "X = club.drop(['amount_spent_per_room_night_scaled'], 1)\n",
    "X.head()"
   ]
  },
  {
   "cell_type": "code",
   "execution_count": null,
   "metadata": {},
   "outputs": [],
   "source": [
    "# Put the target variable in y\n",
    "\n",
    "y = club['amount_spent_per_room_night_scaled']\n",
    "\n",
    "y.head()"
   ]
  },
  {
   "cell_type": "code",
   "execution_count": null,
   "metadata": {
    "scrolled": true
   },
   "outputs": [],
   "source": [
    "X"
   ]
  },
  {
   "cell_type": "code",
   "execution_count": null,
   "metadata": {},
   "outputs": [],
   "source": [
    "# Split the dataset into 70% train and 30% test\n",
    "from sklearn.preprocessing import StandardScaler\n",
    "standard_scaler = StandardScaler()\n",
    "X = standard_scaler.fit_transform(X)\n",
    "club_test=standard_scaler.transform(club_test)\n",
    "y=standard_scaler.transform(y)\n",
    "X_train, X_test, y_train, y_test = train_test_split(X, y, train_size=0.7, test_size=0.3, random_state=100)"
   ]
  },
  {
   "cell_type": "code",
   "execution_count": null,
   "metadata": {
    "scrolled": true
   },
   "outputs": [],
   "source": [
    "X_train.shape"
   ]
  },
  {
   "cell_type": "code",
   "execution_count": null,
   "metadata": {},
   "outputs": [],
   "source": [
    "y_train.head()"
   ]
  },
  {
   "cell_type": "markdown",
   "metadata": {},
   "source": [
    "# Step 7 - Model Building:"
   ]
  },
  {
   "cell_type": "code",
   "execution_count": null,
   "metadata": {},
   "outputs": [],
   "source": [
    "# Importing RFE and LinearRegression\n",
    "from sklearn.feature_selection import RFE\n",
    "from sklearn.linear_model import LinearRegression"
   ]
  },
  {
   "cell_type": "code",
   "execution_count": null,
   "metadata": {},
   "outputs": [],
   "source": [
    "# Running RFE with the output number of the variable equal to 10\n",
    "lm = LinearRegression()\n",
    "lm.fit(X_train, y_train)\n",
    "\n",
    "rfe = RFE(lm, 15)             # running RFE\n",
    "rfe = rfe.fit(X_train, y_train)"
   ]
  },
  {
   "cell_type": "code",
   "execution_count": null,
   "metadata": {},
   "outputs": [],
   "source": [
    "list(zip(X_train.columns,rfe.support_,rfe.ranking_))"
   ]
  },
  {
   "cell_type": "code",
   "execution_count": null,
   "metadata": {},
   "outputs": [],
   "source": [
    "col = X_train.columns[rfe.support_]  # checkin the columns of the rfe given variables\n",
    "club[col].astype(int)\n"
   ]
  },
  {
   "cell_type": "code",
   "execution_count": null,
   "metadata": {},
   "outputs": [],
   "source": [
    "X_train.columns[~rfe.support_]  #columns which are not in rfe model"
   ]
  },
  {
   "cell_type": "code",
   "execution_count": null,
   "metadata": {},
   "outputs": [],
   "source": [
    "# Creating X_test dataframe with RFE selected variables\n",
    "X_train_rfe = X_train[col]\n",
    "#X_train_rfe.drop(['persontravellingid'], 1)"
   ]
  },
  {
   "cell_type": "code",
   "execution_count": null,
   "metadata": {},
   "outputs": [],
   "source": [
    "# Adding a constant variable \n",
    "import statsmodels.api as sm  \n",
    "X_train_rfe = sm.add_constant(X_train_rfe)"
   ]
  },
  {
   "cell_type": "code",
   "execution_count": null,
   "metadata": {},
   "outputs": [],
   "source": [
    "lm = sm.OLS(y_train,X_train_rfe).fit()   # Running the linear model"
   ]
  },
  {
   "cell_type": "code",
   "execution_count": null,
   "metadata": {},
   "outputs": [],
   "source": [
    "#Let's see the summary of our linear model\n",
    "print(lm.summary())"
   ]
  },
  {
   "cell_type": "code",
   "execution_count": null,
   "metadata": {},
   "outputs": [],
   "source": []
  },
  {
   "cell_type": "code",
   "execution_count": null,
   "metadata": {},
   "outputs": [],
   "source": []
  },
  {
   "cell_type": "code",
   "execution_count": null,
   "metadata": {},
   "outputs": [],
   "source": []
  },
  {
   "cell_type": "code",
   "execution_count": null,
   "metadata": {},
   "outputs": [],
   "source": [
    "# list of alphas to tune\n",
    "params = {'alpha': [0.0001, 0.001, 0.01, 0.05, 0.1, \n",
    " 0.2, 0.3, 0.4, 0.5, 0.6, 0.7, 0.8, 0.9, 1.0, 2.0, 3.0, \n",
    " 4.0, 5.0, 6.0, 7.0, 8.0, 9.0, 10.0, 20, 50, 100, 500, 1000 ]}\n",
    "\n",
    "\n",
    "ridge = Ridge()\n",
    "\n",
    "# cross validation\n",
    "folds = 10\n",
    "model_cv = GridSearchCV(estimator = ridge, \n",
    "                        param_grid = params, \n",
    "                        scoring= 'neg_mean_absolute_error', \n",
    "                        cv = folds, \n",
    "                        return_train_score=True,\n",
    "                        verbose = 1)            \n",
    "model_cv.fit(X_train, y_train) "
   ]
  },
  {
   "cell_type": "code",
   "execution_count": null,
   "metadata": {},
   "outputs": [],
   "source": [
    "cv_results = pd.DataFrame(model_cv.cv_results_)\n",
    "cv_results = cv_results[cv_results['param_alpha']<=200]\n",
    "cv_results.head()"
   ]
  },
  {
   "cell_type": "code",
   "execution_count": null,
   "metadata": {},
   "outputs": [],
   "source": [
    "# plotting mean test and train scores with alpha \n",
    "cv_results['param_alpha'] = cv_results['param_alpha'].astype('int32')\n",
    "\n",
    "# plotting\n",
    "plt.plot(cv_results['param_alpha'], cv_results['mean_train_score'])\n",
    "plt.plot(cv_results['param_alpha'], cv_results['mean_test_score'])\n",
    "plt.xlabel('alpha')\n",
    "plt.ylabel('Negative Mean Absolute Error')\n",
    "plt.title(\"Negative Mean Absolute Error and alpha\")\n",
    "plt.legend(['train score', 'test score'], loc='upper left')\n",
    "plt.show()"
   ]
  },
  {
   "cell_type": "markdown",
   "metadata": {},
   "source": [
    "# taking the value of alpha from graph where the orange line seem to take a bend"
   ]
  },
  {
   "cell_type": "code",
   "execution_count": null,
   "metadata": {},
   "outputs": [],
   "source": [
    "alpha =3\n",
    "ridge = Ridge(alpha=alpha)\n",
    "\n",
    "ridge.fit(X_train, y_train)\n",
    "ridge.coef_"
   ]
  },
  {
   "cell_type": "code",
   "execution_count": null,
   "metadata": {},
   "outputs": [],
   "source": [
    "lasso = Lasso()\n",
    "\n",
    "# cross validation\n",
    "folds = 10\n",
    "model_cv = GridSearchCV(estimator = lasso, \n",
    "                        param_grid = params, \n",
    "                        scoring= 'neg_mean_absolute_error', \n",
    "                        cv = folds, \n",
    "                        return_train_score=True,\n",
    "                        verbose = 1)            \n",
    "\n",
    "model_cv.fit(X_train, y_train) "
   ]
  },
  {
   "cell_type": "code",
   "execution_count": null,
   "metadata": {},
   "outputs": [],
   "source": [
    "cv_results = pd.DataFrame(model_cv.cv_results_)\n",
    "cv_results = cv_results[cv_results['param_alpha']<=5]\n",
    "cv_results"
   ]
  },
  {
   "cell_type": "code",
   "execution_count": null,
   "metadata": {},
   "outputs": [],
   "source": [
    "# plotting mean test and train scoes with alpha \n",
    "cv_results['param_alpha'] = cv_results['param_alpha'].astype('float32')\n",
    "\n",
    "# plotting\n",
    "plt.plot(cv_results['param_alpha'], cv_results['mean_train_score'])\n",
    "plt.plot(cv_results['param_alpha'], cv_results['mean_test_score'])\n",
    "plt.xlabel('alpha')\n",
    "plt.ylabel('Negative Mean Absolute Error')\n",
    "\n",
    "plt.title(\"Negative Mean Absolute Error and alpha\")\n",
    "plt.legend(['train score', 'test score'], loc='upper left')\n",
    "plt.show()"
   ]
  },
  {
   "cell_type": "markdown",
   "metadata": {},
   "source": [
    "# taking the value of alpha from graph where the orange line seem to take a bend"
   ]
  },
  {
   "cell_type": "code",
   "execution_count": null,
   "metadata": {},
   "outputs": [],
   "source": [
    "alpha =0.1\n",
    "\n",
    "lasso = Lasso(alpha=alpha)\n",
    "        \n",
    "lasso.fit(X_train, y_train) "
   ]
  },
  {
   "cell_type": "code",
   "execution_count": null,
   "metadata": {},
   "outputs": [],
   "source": [
    "zero=(lasso.coef_==0)\n",
    "zero"
   ]
  },
  {
   "cell_type": "code",
   "execution_count": null,
   "metadata": {},
   "outputs": [],
   "source": [
    "def pretty_print_linear(coefs,names=None , sort =False ):\n",
    "    if names ==None:\n",
    "        names = [\" X%s \" % x for x in range(len(coefs))]\n",
    "    lst = zip(coefs,names)\n",
    "    if sort:\n",
    "        lst = sorted(lst,key=lambda x : -np.abs(x[0]))\n",
    "    return \"+\".join(\"%s *%s\" %(round(coef,3), name)\n",
    "                    for coef,name in lst)\n",
    "\n"
   ]
  },
  {
   "cell_type": "markdown",
   "metadata": {},
   "source": [
    "# equation of lasso regression:\n"
   ]
  },
  {
   "cell_type": "code",
   "execution_count": null,
   "metadata": {},
   "outputs": [],
   "source": [
    "names=club.columns.values.tolist()\n",
    "#names\n",
    "print(\"lasso\",pretty_print_linear(lasso.coef_ , names ,sort=True))"
   ]
  },
  {
   "cell_type": "code",
   "execution_count": null,
   "metadata": {},
   "outputs": [],
   "source": [
    "ridge_train_score=ridge.score(X_train,y_train)\n",
    "ridge_test_score=ridge.score(X_test,y_test)\n",
    "ridge_train_score,ridge_test_score"
   ]
  },
  {
   "cell_type": "code",
   "execution_count": null,
   "metadata": {},
   "outputs": [],
   "source": [
    "lasso_train_score=lasso.score(X_train,y_train)\n",
    "lasso_test_score=lasso.score(X_test,y_test)\n",
    "lasso_train_score,lasso_test_score"
   ]
  },
  {
   "cell_type": "code",
   "execution_count": null,
   "metadata": {},
   "outputs": [],
   "source": [
    "model_param = list(lasso.coef_)\n",
    "model_param.insert(0,lasso.intercept_)\n",
    "model_param = [round(x,3) for x in model_param]\n",
    "cols=X.columns\n",
    "cols=cols.insert(0,\"constant\")\n",
    "param = list(zip(cols,model_param))\n",
    "param"
   ]
  },
  {
   "cell_type": "code",
   "execution_count": null,
   "metadata": {},
   "outputs": [],
   "source": [
    "df_test=pd.DataFrame.from_records(param)\n",
    "df_test"
   ]
  },
  {
   "cell_type": "code",
   "execution_count": null,
   "metadata": {},
   "outputs": [],
   "source": [
    "df_test=df_test[df_test[1]!=0]\n",
    "df_test.head()"
   ]
  },
  {
   "cell_type": "code",
   "execution_count": null,
   "metadata": {},
   "outputs": [],
   "source": [
    "col=df_test[0]\n",
    "col"
   ]
  },
  {
   "cell_type": "code",
   "execution_count": null,
   "metadata": {},
   "outputs": [],
   "source": []
  },
  {
   "cell_type": "code",
   "execution_count": null,
   "metadata": {},
   "outputs": [],
   "source": []
  },
  {
   "cell_type": "code",
   "execution_count": null,
   "metadata": {},
   "outputs": [],
   "source": []
  },
  {
   "cell_type": "code",
   "execution_count": null,
   "metadata": {},
   "outputs": [],
   "source": []
  },
  {
   "cell_type": "code",
   "execution_count": null,
   "metadata": {},
   "outputs": [],
   "source": [
    "#fitting simple linear regression to the training set\n",
    "from sklearn.linear_model import LinearRegression\n",
    "regressor=LinearRegression()\n",
    "regressor.fit(X_train,y_train)"
   ]
  },
  {
   "cell_type": "code",
   "execution_count": null,
   "metadata": {},
   "outputs": [],
   "source": [
    "#predict the test result\n",
    "y_pred=regressor.predict(X_test)"
   ]
  },
  {
   "cell_type": "code",
   "execution_count": null,
   "metadata": {},
   "outputs": [],
   "source": [
    "print(regressor.intercept_)"
   ]
  },
  {
   "cell_type": "code",
   "execution_count": null,
   "metadata": {},
   "outputs": [],
   "source": [
    "print(regressor.coef_)"
   ]
  },
  {
   "cell_type": "code",
   "execution_count": null,
   "metadata": {},
   "outputs": [],
   "source": [
    "zip(X,regressor.coef_)"
   ]
  },
  {
   "cell_type": "code",
   "execution_count": null,
   "metadata": {},
   "outputs": [],
   "source": [
    "y_pred=regressor.predict(X_test)"
   ]
  },
  {
   "cell_type": "code",
   "execution_count": null,
   "metadata": {},
   "outputs": [],
   "source": [
    "from sklearn import metrics\n",
    "print(metrics.mean_absolute_error(y_test,y_pred))"
   ]
  },
  {
   "cell_type": "code",
   "execution_count": null,
   "metadata": {},
   "outputs": [],
   "source": [
    "print(metrics.mean_squared_error(y_test,y_pred))"
   ]
  },
  {
   "cell_type": "code",
   "execution_count": null,
   "metadata": {},
   "outputs": [],
   "source": [
    "print(np.sqrt(metrics.mean_squared_error(y_test,y_pred)))"
   ]
  },
  {
   "cell_type": "code",
   "execution_count": null,
   "metadata": {},
   "outputs": [],
   "source": []
  },
  {
   "cell_type": "code",
   "execution_count": null,
   "metadata": {},
   "outputs": [],
   "source": []
  },
  {
   "cell_type": "code",
   "execution_count": null,
   "metadata": {},
   "outputs": [],
   "source": []
  },
  {
   "cell_type": "code",
   "execution_count": null,
   "metadata": {},
   "outputs": [],
   "source": []
  },
  {
   "cell_type": "code",
   "execution_count": null,
   "metadata": {},
   "outputs": [],
   "source": []
  },
  {
   "cell_type": "code",
   "execution_count": null,
   "metadata": {},
   "outputs": [],
   "source": []
  },
  {
   "cell_type": "code",
   "execution_count": null,
   "metadata": {},
   "outputs": [],
   "source": []
  },
  {
   "cell_type": "code",
   "execution_count": null,
   "metadata": {},
   "outputs": [],
   "source": []
  },
  {
   "cell_type": "code",
   "execution_count": null,
   "metadata": {},
   "outputs": [],
   "source": []
  },
  {
   "cell_type": "code",
   "execution_count": null,
   "metadata": {},
   "outputs": [],
   "source": []
  },
  {
   "cell_type": "code",
   "execution_count": null,
   "metadata": {},
   "outputs": [],
   "source": []
  },
  {
   "cell_type": "code",
   "execution_count": null,
   "metadata": {},
   "outputs": [],
   "source": []
  },
  {
   "cell_type": "code",
   "execution_count": null,
   "metadata": {},
   "outputs": [],
   "source": []
  },
  {
   "cell_type": "code",
   "execution_count": null,
   "metadata": {},
   "outputs": [],
   "source": []
  },
  {
   "cell_type": "code",
   "execution_count": null,
   "metadata": {},
   "outputs": [],
   "source": []
  },
  {
   "cell_type": "code",
   "execution_count": null,
   "metadata": {},
   "outputs": [],
   "source": []
  },
  {
   "cell_type": "code",
   "execution_count": null,
   "metadata": {},
   "outputs": [],
   "source": []
  },
  {
   "cell_type": "code",
   "execution_count": null,
   "metadata": {},
   "outputs": [],
   "source": []
  },
  {
   "cell_type": "code",
   "execution_count": null,
   "metadata": {},
   "outputs": [],
   "source": []
  },
  {
   "cell_type": "code",
   "execution_count": null,
   "metadata": {},
   "outputs": [],
   "source": []
  }
 ],
 "metadata": {
  "kernelspec": {
   "display_name": "Python 3",
   "language": "python",
   "name": "python3"
  },
  "language_info": {
   "codemirror_mode": {
    "name": "ipython",
    "version": 3
   },
   "file_extension": ".py",
   "mimetype": "text/x-python",
   "name": "python",
   "nbconvert_exporter": "python",
   "pygments_lexer": "ipython3",
   "version": "3.6.5"
  }
 },
 "nbformat": 4,
 "nbformat_minor": 2
}
